{
 "cells": [
  {
   "cell_type": "code",
   "execution_count": 4,
   "metadata": {},
   "outputs": [
    {
     "name": "stdout",
     "output_type": "stream",
     "text": [
      "[1, 2, 4, 8, 10]\n"
     ]
    }
   ],
   "source": [
    "def bubble_sort(data:list):\n",
    "    for i in range(len(data)-1,0,-1):\n",
    "        for j in range(i):\n",
    "            if data[j]>data[j+1]:\n",
    "                data[j],data[j+1]=data[j+1], data[j]\n",
    "    print(data)\n",
    "data = [4,2,8,1,10]\n",
    "bubble_sort(data)\n",
    "\n",
    "    "
   ]
  },
  {
   "cell_type": "code",
   "execution_count": 7,
   "metadata": {},
   "outputs": [
    {
     "name": "stdout",
     "output_type": "stream",
     "text": [
      "[1, 2, 4, 8, 10]\n"
     ]
    }
   ],
   "source": [
    "from random import randint\n",
    "def quick_sort(data:list):\n",
    "    if len(data)<1:\n",
    "        return data\n",
    "    smaller,larger, equal = [],[],[]\n",
    "    pivot = data[randint(0,len(data)-1)]\n",
    "    for i in data:\n",
    "        if i < pivot:\n",
    "            smaller.append(i)\n",
    "        elif i > pivot:\n",
    "            larger.append(i)\n",
    "        else:\n",
    "            equal.append(i)\n",
    "    return quick_sort(smaller)+equal+quick_sort(larger)\n",
    "data = [4,2,8,1,10]\n",
    "print(quick_sort(data))"
   ]
  },
  {
   "cell_type": "code",
   "execution_count": 15,
   "metadata": {},
   "outputs": [
    {
     "name": "stdout",
     "output_type": "stream",
     "text": [
      "[1, 2, 4, 8, 8, 10]\n"
     ]
    }
   ],
   "source": [
    "def merge_sort(data:list):\n",
    "    if len(data)>1:\n",
    "        mid = len(data)//2\n",
    "        left=data[:mid]\n",
    "        right=data[mid:]\n",
    "        merge_sort(left)\n",
    "        merge_sort(right)\n",
    "        \n",
    "        i=j=k=0\n",
    "        if i < len(left) and j < len(right):\n",
    "            if left[i]<right[i]:\n",
    "                data[k] = left[i]\n",
    "                i=i+1\n",
    "                k=k+1\n",
    "            else:\n",
    "                data[k] = right[i]\n",
    "                k=k+1\n",
    "                j=j+1\n",
    "        while i < len(left):\n",
    "            data[k] = left[i]\n",
    "            k=k+1\n",
    "            i=i+1\n",
    "        while j < len(right):\n",
    "            data[k] = right[j]\n",
    "            k=k+1\n",
    "            j=j+1\n",
    "\n",
    "data = [4,2,8,1,10,8]\n",
    "merge_sort(data)\n",
    "print(data)\n",
    "                "
   ]
  },
  {
   "cell_type": "code",
   "execution_count": null,
   "metadata": {},
   "outputs": [],
   "source": []
  }
 ],
 "metadata": {
  "kernelspec": {
   "display_name": "Python 3",
   "language": "python",
   "name": "python3"
  },
  "language_info": {
   "codemirror_mode": {
    "name": "ipython",
    "version": 3
   },
   "file_extension": ".py",
   "mimetype": "text/x-python",
   "name": "python",
   "nbconvert_exporter": "python",
   "pygments_lexer": "ipython3",
   "version": "3.6.7"
  }
 },
 "nbformat": 4,
 "nbformat_minor": 2
}
