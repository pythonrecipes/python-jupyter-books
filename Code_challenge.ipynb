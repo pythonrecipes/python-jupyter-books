{
 "cells": [
  {
   "cell_type": "code",
   "execution_count": 1,
   "metadata": {},
   "outputs": [
    {
     "name": "stdout",
     "output_type": "stream",
     "text": [
      "[(3, 1), (2, 2), (-1, 5)]\n"
     ]
    }
   ],
   "source": [
    "'''\n",
    "From a given list as input, fint the count of pairs that add upto sum\n",
    "for ex: list = [1,2,3,2,5,6] sum=4\n",
    "pair count is 2 -> (1,3) (2,2)\n",
    "'''\n",
    "def find_sum_pair(data:list , sum_n:int):\n",
    "    add_comp = set()\n",
    "    count = 0\n",
    "    result = []\n",
    "    for i in data:\n",
    "        comp = sum_n - i\n",
    "        if i in add_comp:\n",
    "            count = count +1\n",
    "            result.append((i,sum_n-i))\n",
    "        else:\n",
    "            add_comp.add(comp)\n",
    "    return result\n",
    "data = [1,2,3,2,5,6,-1]\n",
    "print(find_sum_pair(data,4))"
   ]
  },
  {
   "cell_type": "code",
   "execution_count": null,
   "metadata": {},
   "outputs": [],
   "source": [
    "'''\n",
    "From a given list as input, find whether the list elements can be piled onto a tower.\n",
    "Rules:\n",
    "     1. Only Rightmost or leftmost element from a list can pe picked.\n",
    "     2. Element on top should be less then the element on bottom.\n",
    "\n",
    "example : \n",
    "        1. [8,5,2,1,3,6] - Can be arranged into tower --> 8,6,5,3,2,1\n",
    "        2. [8,6,3,2,5,1] - Can't be arranged into tower --> 8,6,3 [2,5,1] can be arranged given the rules\n",
    "'''\n",
    "\n",
    "def pile_up_tower(data: list):\n",
    "    pile = []\n",
    "    i = 0\n",
    "    is_tower_possible = True\n",
    "    while i < len(data) - 1 and is_tower_possible:\n",
    "        left = data[0]\n",
    "        right = data[-1]\n",
    "        result = None\n",
    "        if left > right:\n",
    "            result = left\n",
    "        else:\n",
    "            result = right\n",
    "        data.remove(result)\n",
    "        if pile:\n",
    "            pile_top = pile[-1]\n",
    "            if result > pile_top:\n",
    "                is_tower_possible = False\n",
    "            else:\n",
    "                pile.append(result)\n",
    "        else:\n",
    "            pile.append(result)\n",
    "    print(f\"Tower - {pile}\")\n",
    "    return is_tower_possible\n",
    "        \n",
    "\n",
    "print(pile_up_tower([8,6,3,2,5,1]))"
   ]
  }
 ],
 "metadata": {
  "kernelspec": {
   "display_name": "Python 3",
   "language": "python",
   "name": "python3"
  },
  "language_info": {
   "codemirror_mode": {
    "name": "ipython",
    "version": 3
   },
   "file_extension": ".py",
   "mimetype": "text/x-python",
   "name": "python",
   "nbconvert_exporter": "python",
   "pygments_lexer": "ipython3",
   "version": "3.6.7"
  }
 },
 "nbformat": 4,
 "nbformat_minor": 2
}
